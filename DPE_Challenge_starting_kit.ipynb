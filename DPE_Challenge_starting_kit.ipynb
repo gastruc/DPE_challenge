{
  "nbformat": 4,
  "nbformat_minor": 0,
  "metadata": {
    "colab": {
      "name": "DPE_Challenge_starting_kit.ipynb",
      "provenance": [],
      "collapsed_sections": []
    },
    "kernelspec": {
      "name": "python3",
      "display_name": "Python 3"
    },
    "language_info": {
      "name": "python"
    }
  },
  "cells": [
    {
      "cell_type": "code",
      "execution_count": 1,
      "metadata": {
        "id": "IChZUcGq2JCU"
      },
      "outputs": [],
      "source": [
        "import pandas as pd\n",
        "import numpy as np\n",
        "import matplotlib.pyplot as plt\n",
        "from sklearn.impute import SimpleImputer\n",
        "from sklearn.compose import ColumnTransformer\n",
        "from sklearn.pipeline import make_pipeline\n",
        "from sklearn.preprocessing import FunctionTransformer, StandardScaler, \\\n",
        "    OneHotEncoder,LabelEncoder\n",
        "from sklearn.pipeline import Pipeline"
      ]
    },
    {
      "cell_type": "code",
      "source": [
        "from google.colab import drive\n",
        "drive.mount('/content/drive')\n",
        "PATH = r\"/content/drive/MyDrive/\""
      ],
      "metadata": {
        "colab": {
          "base_uri": "https://localhost:8080/"
        },
        "id": "qAECENnSXbiW",
        "outputId": "9b8339ca-bca1-4497-dcf8-f34ed4d59578"
      },
      "execution_count": 2,
      "outputs": [
        {
          "output_type": "stream",
          "name": "stdout",
          "text": [
            "Drive already mounted at /content/drive; to attempt to forcibly remount, call drive.mount(\"/content/drive\", force_remount=True).\n"
          ]
        }
      ]
    },
    {
      "cell_type": "code",
      "source": [
        "df = pd.read_csv(PATH+'DPE_train.csv',index_col=0)\n",
        "df.head()"
      ],
      "metadata": {
        "colab": {
          "base_uri": "https://localhost:8080/",
          "height": 340
        },
        "id": "wkOzy4FF2p-b",
        "outputId": "5405a5b5-5b0f-4bf4-a7cd-714d79596e24"
      },
      "execution_count": 3,
      "outputs": [
        {
          "output_type": "stream",
          "name": "stderr",
          "text": [
            "/usr/local/lib/python3.7/dist-packages/IPython/core/interactiveshell.py:2882: DtypeWarning: Columns (10) have mixed types.Specify dtype option on import or set low_memory=False.\n",
            "  exec(code_obj, self.user_global_ns, self.user_ns)\n"
          ]
        },
        {
          "output_type": "execute_result",
          "data": {
            "text/plain": [
              "      numero_dpe  tr001_modele_dpe_id  consommation_energie  \\\n",
              "0  1354V1000001@                    1                282.00   \n",
              "1  1379V1000001G                    1                326.00   \n",
              "2  1313V1000001U                    1                206.00   \n",
              "3  1380V1000001Y                    1                200.00   \n",
              "4  1392L1000001A                    9                242.02   \n",
              "\n",
              "  classe_consommation_energie  tr002_type_batiment_id  annee_construction  \\\n",
              "0                           E                       1                1948   \n",
              "1                           E                       1                1983   \n",
              "2                           D                       2                2006   \n",
              "3                           D                       1                2001   \n",
              "4                           E                       2                1980   \n",
              "\n",
              "   surface_habitable  tv016_departement_id               commune  \\\n",
              "0             118.00                    54               PEXONNE   \n",
              "1              69.84                    79  LA MOTHE-SAINT-HÉRAY   \n",
              "2              84.00                    13             MARSEILLE   \n",
              "3              99.00                    80     VAIRE-SOUS-CORBIE   \n",
              "4              64.05                    92            COURBEVOIE   \n",
              "\n",
              "  code_insee_commune_corrige    shon   date_reception_dpe  besoin_chauffage  \\\n",
              "0                      54540  118.00  2013-04-08 04:00:00            338.36   \n",
              "1                      79184   69.84  2013-04-08 04:00:00            131.98   \n",
              "2                      13013   84.00  2013-04-08 04:00:00             96.69   \n",
              "3                      80800   99.00  2013-04-08 04:00:00            111.74   \n",
              "4                      92026    0.00  2013-04-08 04:00:00             64.46   \n",
              "\n",
              "   deperdition_enveloppe  deperdition_renouvellement_air  \\\n",
              "0                 401.97                           56.03   \n",
              "1                 172.08                           58.56   \n",
              "2                 164.86                           67.56   \n",
              "3                 177.31                           44.77   \n",
              "4                  98.04                           45.47   \n",
              "\n",
              "   tv026_classe_inertie_id  altitude  nombre_niveau  hsp_moyenne  \n",
              "0                      5.0       450            2.0         2.50  \n",
              "1                      3.0         1            1.0         2.64  \n",
              "2                      5.0       520            1.0         2.50  \n",
              "3                      3.0       110            1.0         2.40  \n",
              "4                      1.0        40            1.0         2.50  "
            ],
            "text/html": [
              "\n",
              "  <div id=\"df-a5a57ac6-596b-425a-892a-b367166dafcf\">\n",
              "    <div class=\"colab-df-container\">\n",
              "      <div>\n",
              "<style scoped>\n",
              "    .dataframe tbody tr th:only-of-type {\n",
              "        vertical-align: middle;\n",
              "    }\n",
              "\n",
              "    .dataframe tbody tr th {\n",
              "        vertical-align: top;\n",
              "    }\n",
              "\n",
              "    .dataframe thead th {\n",
              "        text-align: right;\n",
              "    }\n",
              "</style>\n",
              "<table border=\"1\" class=\"dataframe\">\n",
              "  <thead>\n",
              "    <tr style=\"text-align: right;\">\n",
              "      <th></th>\n",
              "      <th>numero_dpe</th>\n",
              "      <th>tr001_modele_dpe_id</th>\n",
              "      <th>consommation_energie</th>\n",
              "      <th>classe_consommation_energie</th>\n",
              "      <th>tr002_type_batiment_id</th>\n",
              "      <th>annee_construction</th>\n",
              "      <th>surface_habitable</th>\n",
              "      <th>tv016_departement_id</th>\n",
              "      <th>commune</th>\n",
              "      <th>code_insee_commune_corrige</th>\n",
              "      <th>shon</th>\n",
              "      <th>date_reception_dpe</th>\n",
              "      <th>besoin_chauffage</th>\n",
              "      <th>deperdition_enveloppe</th>\n",
              "      <th>deperdition_renouvellement_air</th>\n",
              "      <th>tv026_classe_inertie_id</th>\n",
              "      <th>altitude</th>\n",
              "      <th>nombre_niveau</th>\n",
              "      <th>hsp_moyenne</th>\n",
              "    </tr>\n",
              "  </thead>\n",
              "  <tbody>\n",
              "    <tr>\n",
              "      <th>0</th>\n",
              "      <td>1354V1000001@</td>\n",
              "      <td>1</td>\n",
              "      <td>282.00</td>\n",
              "      <td>E</td>\n",
              "      <td>1</td>\n",
              "      <td>1948</td>\n",
              "      <td>118.00</td>\n",
              "      <td>54</td>\n",
              "      <td>PEXONNE</td>\n",
              "      <td>54540</td>\n",
              "      <td>118.00</td>\n",
              "      <td>2013-04-08 04:00:00</td>\n",
              "      <td>338.36</td>\n",
              "      <td>401.97</td>\n",
              "      <td>56.03</td>\n",
              "      <td>5.0</td>\n",
              "      <td>450</td>\n",
              "      <td>2.0</td>\n",
              "      <td>2.50</td>\n",
              "    </tr>\n",
              "    <tr>\n",
              "      <th>1</th>\n",
              "      <td>1379V1000001G</td>\n",
              "      <td>1</td>\n",
              "      <td>326.00</td>\n",
              "      <td>E</td>\n",
              "      <td>1</td>\n",
              "      <td>1983</td>\n",
              "      <td>69.84</td>\n",
              "      <td>79</td>\n",
              "      <td>LA MOTHE-SAINT-HÉRAY</td>\n",
              "      <td>79184</td>\n",
              "      <td>69.84</td>\n",
              "      <td>2013-04-08 04:00:00</td>\n",
              "      <td>131.98</td>\n",
              "      <td>172.08</td>\n",
              "      <td>58.56</td>\n",
              "      <td>3.0</td>\n",
              "      <td>1</td>\n",
              "      <td>1.0</td>\n",
              "      <td>2.64</td>\n",
              "    </tr>\n",
              "    <tr>\n",
              "      <th>2</th>\n",
              "      <td>1313V1000001U</td>\n",
              "      <td>1</td>\n",
              "      <td>206.00</td>\n",
              "      <td>D</td>\n",
              "      <td>2</td>\n",
              "      <td>2006</td>\n",
              "      <td>84.00</td>\n",
              "      <td>13</td>\n",
              "      <td>MARSEILLE</td>\n",
              "      <td>13013</td>\n",
              "      <td>84.00</td>\n",
              "      <td>2013-04-08 04:00:00</td>\n",
              "      <td>96.69</td>\n",
              "      <td>164.86</td>\n",
              "      <td>67.56</td>\n",
              "      <td>5.0</td>\n",
              "      <td>520</td>\n",
              "      <td>1.0</td>\n",
              "      <td>2.50</td>\n",
              "    </tr>\n",
              "    <tr>\n",
              "      <th>3</th>\n",
              "      <td>1380V1000001Y</td>\n",
              "      <td>1</td>\n",
              "      <td>200.00</td>\n",
              "      <td>D</td>\n",
              "      <td>1</td>\n",
              "      <td>2001</td>\n",
              "      <td>99.00</td>\n",
              "      <td>80</td>\n",
              "      <td>VAIRE-SOUS-CORBIE</td>\n",
              "      <td>80800</td>\n",
              "      <td>99.00</td>\n",
              "      <td>2013-04-08 04:00:00</td>\n",
              "      <td>111.74</td>\n",
              "      <td>177.31</td>\n",
              "      <td>44.77</td>\n",
              "      <td>3.0</td>\n",
              "      <td>110</td>\n",
              "      <td>1.0</td>\n",
              "      <td>2.40</td>\n",
              "    </tr>\n",
              "    <tr>\n",
              "      <th>4</th>\n",
              "      <td>1392L1000001A</td>\n",
              "      <td>9</td>\n",
              "      <td>242.02</td>\n",
              "      <td>E</td>\n",
              "      <td>2</td>\n",
              "      <td>1980</td>\n",
              "      <td>64.05</td>\n",
              "      <td>92</td>\n",
              "      <td>COURBEVOIE</td>\n",
              "      <td>92026</td>\n",
              "      <td>0.00</td>\n",
              "      <td>2013-04-08 04:00:00</td>\n",
              "      <td>64.46</td>\n",
              "      <td>98.04</td>\n",
              "      <td>45.47</td>\n",
              "      <td>1.0</td>\n",
              "      <td>40</td>\n",
              "      <td>1.0</td>\n",
              "      <td>2.50</td>\n",
              "    </tr>\n",
              "  </tbody>\n",
              "</table>\n",
              "</div>\n",
              "      <button class=\"colab-df-convert\" onclick=\"convertToInteractive('df-a5a57ac6-596b-425a-892a-b367166dafcf')\"\n",
              "              title=\"Convert this dataframe to an interactive table.\"\n",
              "              style=\"display:none;\">\n",
              "        \n",
              "  <svg xmlns=\"http://www.w3.org/2000/svg\" height=\"24px\"viewBox=\"0 0 24 24\"\n",
              "       width=\"24px\">\n",
              "    <path d=\"M0 0h24v24H0V0z\" fill=\"none\"/>\n",
              "    <path d=\"M18.56 5.44l.94 2.06.94-2.06 2.06-.94-2.06-.94-.94-2.06-.94 2.06-2.06.94zm-11 1L8.5 8.5l.94-2.06 2.06-.94-2.06-.94L8.5 2.5l-.94 2.06-2.06.94zm10 10l.94 2.06.94-2.06 2.06-.94-2.06-.94-.94-2.06-.94 2.06-2.06.94z\"/><path d=\"M17.41 7.96l-1.37-1.37c-.4-.4-.92-.59-1.43-.59-.52 0-1.04.2-1.43.59L10.3 9.45l-7.72 7.72c-.78.78-.78 2.05 0 2.83L4 21.41c.39.39.9.59 1.41.59.51 0 1.02-.2 1.41-.59l7.78-7.78 2.81-2.81c.8-.78.8-2.07 0-2.86zM5.41 20L4 18.59l7.72-7.72 1.47 1.35L5.41 20z\"/>\n",
              "  </svg>\n",
              "      </button>\n",
              "      \n",
              "  <style>\n",
              "    .colab-df-container {\n",
              "      display:flex;\n",
              "      flex-wrap:wrap;\n",
              "      gap: 12px;\n",
              "    }\n",
              "\n",
              "    .colab-df-convert {\n",
              "      background-color: #E8F0FE;\n",
              "      border: none;\n",
              "      border-radius: 50%;\n",
              "      cursor: pointer;\n",
              "      display: none;\n",
              "      fill: #1967D2;\n",
              "      height: 32px;\n",
              "      padding: 0 0 0 0;\n",
              "      width: 32px;\n",
              "    }\n",
              "\n",
              "    .colab-df-convert:hover {\n",
              "      background-color: #E2EBFA;\n",
              "      box-shadow: 0px 1px 2px rgba(60, 64, 67, 0.3), 0px 1px 3px 1px rgba(60, 64, 67, 0.15);\n",
              "      fill: #174EA6;\n",
              "    }\n",
              "\n",
              "    [theme=dark] .colab-df-convert {\n",
              "      background-color: #3B4455;\n",
              "      fill: #D2E3FC;\n",
              "    }\n",
              "\n",
              "    [theme=dark] .colab-df-convert:hover {\n",
              "      background-color: #434B5C;\n",
              "      box-shadow: 0px 1px 3px 1px rgba(0, 0, 0, 0.15);\n",
              "      filter: drop-shadow(0px 1px 2px rgba(0, 0, 0, 0.3));\n",
              "      fill: #FFFFFF;\n",
              "    }\n",
              "  </style>\n",
              "\n",
              "      <script>\n",
              "        const buttonEl =\n",
              "          document.querySelector('#df-a5a57ac6-596b-425a-892a-b367166dafcf button.colab-df-convert');\n",
              "        buttonEl.style.display =\n",
              "          google.colab.kernel.accessAllowed ? 'block' : 'none';\n",
              "\n",
              "        async function convertToInteractive(key) {\n",
              "          const element = document.querySelector('#df-a5a57ac6-596b-425a-892a-b367166dafcf');\n",
              "          const dataTable =\n",
              "            await google.colab.kernel.invokeFunction('convertToInteractive',\n",
              "                                                     [key], {});\n",
              "          if (!dataTable) return;\n",
              "\n",
              "          const docLinkHtml = 'Like what you see? Visit the ' +\n",
              "            '<a target=\"_blank\" href=https://colab.research.google.com/notebooks/data_table.ipynb>data table notebook</a>'\n",
              "            + ' to learn more about interactive tables.';\n",
              "          element.innerHTML = '';\n",
              "          dataTable['output_type'] = 'display_data';\n",
              "          await google.colab.output.renderOutput(dataTable, element);\n",
              "          const docLink = document.createElement('div');\n",
              "          docLink.innerHTML = docLinkHtml;\n",
              "          element.appendChild(docLink);\n",
              "        }\n",
              "      </script>\n",
              "    </div>\n",
              "  </div>\n",
              "  "
            ]
          },
          "metadata": {},
          "execution_count": 3
        }
      ]
    },
    {
      "cell_type": "code",
      "source": [
        "df.classe_consommation_energie.value_counts()"
      ],
      "metadata": {
        "colab": {
          "base_uri": "https://localhost:8080/"
        },
        "id": "xS98jIVFHwNW",
        "outputId": "bc3e56ca-9949-4d9c-9653-0173e94ea475"
      },
      "execution_count": 4,
      "outputs": [
        {
          "output_type": "execute_result",
          "data": {
            "text/plain": [
              "D    714181\n",
              "E    563230\n",
              "C    327682\n",
              "F    227938\n",
              "G     81873\n",
              "B     62783\n",
              "A     22309\n",
              "N         5\n",
              "Name: classe_consommation_energie, dtype: int64"
            ]
          },
          "metadata": {},
          "execution_count": 4
        }
      ]
    },
    {
      "cell_type": "code",
      "source": [
        "# discard misclassified elements (we cannot know if the class is right but the energy consumption is wrong and vice versa)\n",
        "wrong_class_A=(df.classe_consommation_energie=='A')&((df.consommation_energie<0) | (df.consommation_energie>50))\n",
        "df=df.loc[~wrong_class_A]\n",
        "\n",
        "wrong_class_B=(df.classe_consommation_energie=='B')&((df.consommation_energie<51) | (df.consommation_energie>90))\n",
        "df=df.loc[~wrong_class_B]\n",
        "\n",
        "wrong_class_C=(df.classe_consommation_energie=='C')&((df.consommation_energie<91) | (df.consommation_energie>150))\n",
        "df=df.loc[~wrong_class_C]\n",
        "\n",
        "wrong_class_D=(df.classe_consommation_energie=='D')&((df.consommation_energie<151) | (df.consommation_energie>230))\n",
        "df=df.loc[~wrong_class_D]\n",
        "\n",
        "wrong_class_E=(df.classe_consommation_energie=='E')&((df.consommation_energie<231) | (df.consommation_energie>330))\n",
        "df=df.loc[~wrong_class_E]\n",
        "\n",
        "wrong_class_F=(df.classe_consommation_energie=='F')&((df.consommation_energie<331) | (df.consommation_energie>450))\n",
        "df=df.loc[~wrong_class_F]\n",
        "\n",
        "wrong_class_G=(df.classe_consommation_energie=='G')&((df.consommation_energie<450))\n",
        "df=df.loc[~wrong_class_G]"
      ],
      "metadata": {
        "id": "K-cebzaAFkXC"
      },
      "execution_count": 5,
      "outputs": []
    },
    {
      "cell_type": "code",
      "source": [
        "df=df.loc[df.classe_consommation_energie!='N']"
      ],
      "metadata": {
        "id": "8ab7zdZiLGdf"
      },
      "execution_count": 6,
      "outputs": []
    },
    {
      "cell_type": "code",
      "source": [
        "num_cols= list(df.select_dtypes(include=np.number).columns)\n",
        "corr_matrix_num_target=df[[*num_cols]].corr()\n",
        "corr_matrix_num_target[\"consommation_energie\"].sort_values(ascending=False)"
      ],
      "metadata": {
        "colab": {
          "base_uri": "https://localhost:8080/"
        },
        "id": "kogd0rcsPsio",
        "outputId": "ab3dcf79-f792-4808-9434-314f77ae909c"
      },
      "execution_count": 7,
      "outputs": [
        {
          "output_type": "execute_result",
          "data": {
            "text/plain": [
              "consommation_energie              1.000000\n",
              "tv016_departement_id              0.000896\n",
              "tr002_type_batiment_id            0.000717\n",
              "tr001_modele_dpe_id               0.000627\n",
              "annee_construction                0.000617\n",
              "altitude                          0.000151\n",
              "besoin_chauffage                  0.000018\n",
              "nombre_niveau                    -0.000081\n",
              "deperdition_enveloppe            -0.000181\n",
              "shon                             -0.000314\n",
              "surface_habitable                -0.000873\n",
              "deperdition_renouvellement_air   -0.000978\n",
              "hsp_moyenne                      -0.001316\n",
              "tv026_classe_inertie_id          -0.008814\n",
              "Name: consommation_energie, dtype: float64"
            ]
          },
          "metadata": {},
          "execution_count": 7
        }
      ]
    },
    {
      "cell_type": "code",
      "source": [
        "df.columns"
      ],
      "metadata": {
        "id": "BnLAa800O7Hg",
        "colab": {
          "base_uri": "https://localhost:8080/"
        },
        "outputId": "e11f17c7-abb6-42e4-ab5e-a2da2b2fe13a"
      },
      "execution_count": 8,
      "outputs": [
        {
          "output_type": "execute_result",
          "data": {
            "text/plain": [
              "Index(['numero_dpe', 'tr001_modele_dpe_id', 'consommation_energie',\n",
              "       'classe_consommation_energie', 'tr002_type_batiment_id',\n",
              "       'annee_construction', 'surface_habitable', 'tv016_departement_id',\n",
              "       'commune', 'code_insee_commune_corrige', 'shon', 'date_reception_dpe',\n",
              "       'besoin_chauffage', 'deperdition_enveloppe',\n",
              "       'deperdition_renouvellement_air', 'tv026_classe_inertie_id', 'altitude',\n",
              "       'nombre_niveau', 'hsp_moyenne'],\n",
              "      dtype='object')"
            ]
          },
          "metadata": {},
          "execution_count": 8
        }
      ]
    },
    {
      "cell_type": "code",
      "source": [
        "cols_keep=['altitude', 'annee_construction', 'besoin_chauffage','date_reception_dpe', 'hsp_moyenne', 'nombre_niveau',\n",
        "          'surface_habitable', 'tr001_modele_dpe_id', 'tr002_type_batiment_id',\n",
        "          'tv016_departement_id', 'tv026_classe_inertie_id']\n",
        "\n",
        "df1=df[cols_keep]"
      ],
      "metadata": {
        "id": "tEYw5lgoSsbC"
      },
      "execution_count": 9,
      "outputs": []
    },
    {
      "cell_type": "code",
      "source": [
        "df1.info()"
      ],
      "metadata": {
        "colab": {
          "base_uri": "https://localhost:8080/"
        },
        "id": "GTKORBhrvGWt",
        "outputId": "0a79f661-3af2-4be4-bbbb-24f252e6e693"
      },
      "execution_count": 10,
      "outputs": [
        {
          "output_type": "stream",
          "name": "stdout",
          "text": [
            "<class 'pandas.core.frame.DataFrame'>\n",
            "Int64Index: 1983580 entries, 0 to 2000000\n",
            "Data columns (total 11 columns):\n",
            " #   Column                   Dtype  \n",
            "---  ------                   -----  \n",
            " 0   altitude                 int64  \n",
            " 1   annee_construction       int64  \n",
            " 2   besoin_chauffage         float64\n",
            " 3   date_reception_dpe       object \n",
            " 4   hsp_moyenne              float64\n",
            " 5   nombre_niveau            float64\n",
            " 6   surface_habitable        float64\n",
            " 7   tr001_modele_dpe_id      int64  \n",
            " 8   tr002_type_batiment_id   int64  \n",
            " 9   tv016_departement_id     int64  \n",
            " 10  tv026_classe_inertie_id  float64\n",
            "dtypes: float64(5), int64(5), object(1)\n",
            "memory usage: 181.6+ MB\n"
          ]
        }
      ]
    },
    {
      "cell_type": "code",
      "source": [
        "(df1.isna().sum()).sort_values(ascending=False)"
      ],
      "metadata": {
        "colab": {
          "base_uri": "https://localhost:8080/"
        },
        "id": "yNjj_SbAvnlZ",
        "outputId": "99d809df-6067-43b3-8325-3a6fea3a0656"
      },
      "execution_count": 11,
      "outputs": [
        {
          "output_type": "execute_result",
          "data": {
            "text/plain": [
              "tv026_classe_inertie_id    368425\n",
              "nombre_niveau                  48\n",
              "surface_habitable              23\n",
              "altitude                        0\n",
              "annee_construction              0\n",
              "besoin_chauffage                0\n",
              "date_reception_dpe              0\n",
              "hsp_moyenne                     0\n",
              "tr001_modele_dpe_id             0\n",
              "tr002_type_batiment_id          0\n",
              "tv016_departement_id            0\n",
              "dtype: int64"
            ]
          },
          "metadata": {},
          "execution_count": 11
        }
      ]
    },
    {
      "cell_type": "code",
      "source": [
        "class FeatureExtractor(object):\n",
        "    def __init__(self):\n",
        "        pass\n",
        "\n",
        "    def fit(self, X, y):\n",
        "\n",
        "        #numeric transformer\n",
        "        numeric_transformer=SimpleImputer(strategy='median')\n",
        "\n",
        "        #date transformer\n",
        "        def process_date(X):\n",
        "            date = pd.to_datetime(X['date_reception_dpe'])\n",
        "            return np.c_[(date-min(date)).dt.total_seconds()]\n",
        "\n",
        "        date_transformer = FunctionTransformer(process_date)\n",
        "\n",
        "        #label transformer\n",
        "\n",
        "        label_transformer = LabelEncoder()\n",
        "\n",
        "        num_cols_w_nan=['tv026_classe_inertie_id','surface_habitable','nombre_niveau']\n",
        "        date_col=['date_reception_dpe']\n",
        "\n",
        "        drop_cols=['consommation_energie', 'deperdition_enveloppe', 'deperdition_renouvellement_air', 'code_insee_commune_corrige', 'commune', 'numero_dpe','shon']\n",
        "\n",
        "        preprocessor = ColumnTransformer(\n",
        "            transformers=[('date', make_pipeline(date_transformer,SimpleImputer(strategy='median')), date_col),\n",
        "                \n",
        "                ('num',make_pipeline(numeric_transformer,StandardScaler()), num_cols_w_nan),\n",
        "\n",
        "                ('drop cols', 'drop', drop_cols),\n",
        "            ],remainder='passthrough')\n",
        "        self.preprocessor = preprocessor\n",
        "        self.preprocessor.fit(X)\n",
        "\n",
        "        self.labelencoder=label_transformer\n",
        "        self.labelencoder.fit(y)\n",
        "        return self\n",
        "\n",
        "    def transform(self, X,y):\n",
        "        return self.preprocessor.transform(X),self.labelencoder.transform(y)"
      ],
      "metadata": {
        "id": "zttS05cG4nds"
      },
      "execution_count": 12,
      "outputs": []
    },
    {
      "cell_type": "markdown",
      "source": [
        "# Classifier"
      ],
      "metadata": {
        "id": "bgYbrfdHX-7c"
      }
    },
    {
      "cell_type": "code",
      "source": [
        "%%file submissions/starting_kit/classifier.py\n",
        "from sklearn.ensemble import RandomForestClassifier\n",
        "from sklearn.pipeline import Pipeline\n",
        "from sklearn.base import BaseEstimator\n",
        "import pandas as pd\n",
        "import numpy as np\n",
        "import matplotlib.pyplot as plt\n",
        "from sklearn.impute import SimpleImputer\n",
        "from sklearn.compose import ColumnTransformer\n",
        "from sklearn.pipeline import make_pipeline\n",
        "from sklearn.preprocessing import FunctionTransformer, StandardScaler, \\\n",
        "    OneHotEncoder,LabelEncoder\n",
        "from sklearn.pipeline import Pipeline\n",
        "\n",
        "class FeatureExtractor(object):\n",
        "    def __init__(self):\n",
        "        pass\n",
        "\n",
        "    def fit(self, X, y):\n",
        "\n",
        "        #numeric transformer\n",
        "        numeric_transformer=SimpleImputer(strategy='median')\n",
        "\n",
        "        #date transformer\n",
        "        def process_date(X):\n",
        "            date = pd.to_datetime(X['date_reception_dpe'])\n",
        "            return np.c_[(date-min(date)).dt.total_seconds()]\n",
        "\n",
        "        date_transformer = FunctionTransformer(process_date)\n",
        "\n",
        "        #label transformer\n",
        "\n",
        "        label_transformer = LabelEncoder()\n",
        "\n",
        "        num_cols_w_nan=['tv026_classe_inertie_id','surface_habitable','nombre_niveau']\n",
        "        date_col=['date_reception_dpe']\n",
        "\n",
        "        drop_cols=['consommation_energie', 'deperdition_enveloppe', 'deperdition_renouvellement_air', 'code_insee_commune_corrige', 'commune', 'numero_dpe','shon']\n",
        "\n",
        "        preprocessor = ColumnTransformer(\n",
        "            transformers=[('date', make_pipeline(date_transformer,SimpleImputer(strategy='median')), date_col),\n",
        "                \n",
        "                ('num',make_pipeline(numeric_transformer,StandardScaler()), num_cols_w_nan),\n",
        "\n",
        "                ('drop cols', 'drop', drop_cols),\n",
        "            ],remainder='passthrough')\n",
        "        self.preprocessor = preprocessor\n",
        "        self.preprocessor.fit(X)\n",
        "\n",
        "        self.labelencoder=label_transformer\n",
        "        self.labelencoder.fit(y)\n",
        "        return self\n",
        "\n",
        "    def transform(self, X,y):\n",
        "        return self.preprocessor.transform(X),self.labelencoder.transform(y)\n",
        "\n",
        "class Classifier(BaseEstimator):\n",
        "    def __init__(self):\n",
        "        self.clf = Pipeline([\n",
        "            ('classifier', RandomForestClassifier())\n",
        "        ])\n",
        "        self.fe = FeatureExtractor()\n",
        "\n",
        "    def fit(self, X, y):\n",
        "        self.fe.fit(X,y)\n",
        "        Xf,yf=self.fe.transform(X,y)\n",
        "        self.clf.fit(Xf, yf)\n",
        "\n",
        "    def predict_proba(self, X):\n",
        "        Xf=self.fe.transform(X)\n",
        "        return self.clf.predict_proba(Xf)"
      ],
      "metadata": {
        "id": "vzNTBeBuXq72"
      },
      "execution_count": 15,
      "outputs": []
    },
    {
      "cell_type": "code",
      "source": [
        "classifier = Classifier()\n",
        "classifier.fit(df.drop(columns=['classe_consommation_energie'])[200000:],df['classe_consommation_energie'][200000:])"
      ],
      "metadata": {
        "id": "EgMWebMAaRGf"
      },
      "execution_count": null,
      "outputs": []
    },
    {
      "cell_type": "markdown",
      "source": [
        "The metric of the challenge will be MSE."
      ],
      "metadata": {
        "id": "6qoLl2hkboe6"
      }
    },
    {
      "cell_type": "code",
      "source": [
        "y_pred = classifier.predict_proba(df.drop(columns=['classe_consommation_energie'])[-200000:])"
      ],
      "metadata": {
        "id": "s6jf1mOtakmf"
      },
      "execution_count": null,
      "outputs": []
    },
    {
      "cell_type": "code",
      "source": [
        "np.argmax(y_pred,1).shape"
      ],
      "metadata": {
        "id": "pPJ2r-src8dn"
      },
      "execution_count": null,
      "outputs": []
    },
    {
      "cell_type": "code",
      "source": [
        "from sklearn.metrics import mean_squared_error\n",
        "mean_squared_error(df['classe_consommation_energie'][-200000:], np.argmax(y_pred,1))"
      ],
      "metadata": {
        "id": "8ZHTRo5Kf17_"
      },
      "execution_count": null,
      "outputs": []
    },
    {
      "cell_type": "markdown",
      "source": [
        "You can test locally your submission before sending it to the RAMP platform backend using the command !ramp_test_submission --submission starting_kit.\n",
        "\n",
        "The usual way to use this is to explore various models, feature transformations, hyper-parameters optimization and test them using the following command. It uses our metric to estimate your score.\n",
        "\n",
        "To test files stored in a different folder, just replace 'starting_kit' by the name of your folder"
      ],
      "metadata": {
        "id": "qinkytBqX7_D"
      }
    },
    {
      "cell_type": "code",
      "source": [
        "!ramp_test_submission --ramp_data_dir './data/' --submission starting_kit"
      ],
      "metadata": {
        "id": "A-duaklwXwEj"
      },
      "execution_count": null,
      "outputs": []
    }
  ]
}